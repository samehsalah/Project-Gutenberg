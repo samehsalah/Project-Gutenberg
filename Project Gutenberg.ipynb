{
 "cells": [
  {
   "cell_type": "markdown",
   "id": "67e0abd4",
   "metadata": {},
   "source": [
    "<h1 align='center'> Excutive summary</h1>\n",
    "Project Gutenberg is a significant initiative aimed at preserving cultural heritage by converting old literature into eBook format. This project involved analyzing a corpus of 1176 books to extract essential information about each book, including details about the author, title, word count, and number of unique words.<\n",
    "\n",
    "To gain insights into the writing styles of various authors, we identified the top 10 writers based on their works. Comparing their writing styles with those of other authors, we sought to discern distinctive characteristics that set them apart.\n",
    "\n",
    "Additionally, we conducted an analysis to determine the top 10 most frequently used words across all the books in the corpus. This provided valuable information about common themes or language patterns prevalent throughout the collection.\n",
    "\n",
    "Further investigation led us to focus on the writing style of the most frequently repeated author, W.W. Jacobs. Through a detailed examination of his works, we found that his writing style is characterized by a natural tone.\n",
    "\n",
    "Furthermore, we attempted to analyze the lexical diversity over the years to understand how language and writing styles evolved. However, we encountered challenges in obtaining precise publishing dates, as the available data represented the date of conversion to eBook format rather than the original publication date. Consequently, we were unable to establish a consistent pattern for tracking lexical changes over time.\n",
    "\n",
    "In conclusion, this project has provided valuable insights into the literary works available through Project Gutenberg. By analyzing writing styles and frequently used words, we have gained a deeper understanding of the corpus's content and notable authors. Our efforts to uncover the writing style of W.W. Jacobs further contributed to this exploration. While challenges prevented a comprehensive analysis of lexical diversity over the years, the project remains a valuable endeavor in preserving and appreciating classic literature.\n"
   ]
  },
  {
   "cell_type": "markdown",
   "id": "c5a8f127",
   "metadata": {},
   "source": [
    "## Data Cleaning and Preparations"
   ]
  },
  {
   "cell_type": "code",
   "execution_count": 1,
   "id": "0df1387f",
   "metadata": {},
   "outputs": [],
   "source": [
    "import os\n",
    "import string\n",
    "import pandas as pd\n",
    "import numpy as np\n",
    "import seaborn as sns\n",
    "import matplotlib.pyplot as plt"
   ]
  },
  {
   "cell_type": "code",
   "execution_count": 2,
   "id": "1fb4922e",
   "metadata": {},
   "outputs": [
    {
     "name": "stdout",
     "output_type": "stream",
     "text": [
      "*** Introductory Examples for the NLTK Book ***\n",
      "Loading text1, ..., text9 and sent1, ..., sent9\n",
      "Type the name of the text or sentence to view it.\n",
      "Type: 'texts()' or 'sents()' to list the materials.\n",
      "text1: Moby Dick by Herman Melville 1851\n",
      "text2: Sense and Sensibility by Jane Austen 1811\n",
      "text3: The Book of Genesis\n",
      "text4: Inaugural Address Corpus\n",
      "text5: Chat Corpus\n",
      "text6: Monty Python and the Holy Grail\n",
      "text7: Wall Street Journal\n",
      "text8: Personals Corpus\n",
      "text9: The Man Who Was Thursday by G . K . Chesterton 1908\n"
     ]
    }
   ],
   "source": [
    "import nltk\n",
    "from nltk.book import *\n",
    "from nltk.tokenize import RegexpTokenizer\n",
    "from nltk.sentiment.vader import SentimentIntensityAnalyzer\n",
    "from nltk.corpus import stopwords"
   ]
  },
  {
   "cell_type": "markdown",
   "id": "121e8623",
   "metadata": {},
   "source": [
    "## Get author name, title, relase date for each book (Basic information)\n"
   ]
  },
  {
   "cell_type": "code",
   "execution_count": 3,
   "id": "e75fb4f4",
   "metadata": {},
   "outputs": [],
   "source": [
    "#author, title, and relase date going to be a columns in data frame hold basic information about each book\n",
    "author = []\n",
    "title = []\n",
    "relase_date = []\n",
    "language = []\n",
    "indices  = []  #we will use this list as an index for data frame which we willuse it to store basic informations about each book.\n",
    "files = os.listdir(\"dataset\")\n",
    "for file in files:\n",
    "    indices.append(int(file.split(\".\")[0])) #we need just first part from the file name and then convert it to \"int\" to use as index.\n",
    "    with open('dataset/'+file,'r') as fid:\n",
    "        for line in fid: \n",
    "            # the format for title is \"Titl: book title\"\n",
    "            if 'Title:' in line: \n",
    "                #after strip the line at : the list returned, we append the second index in our new list, and strip it to remove white space and new line \"\\n\"\n",
    "                title.append(line.split(\":\")[1].strip()) if len(line.split(\":\"))>=2 else title.append(np.nan)\n",
    "            elif \"Author:\" in line:\n",
    "                author.append(line.split(\":\")[1].strip()) if len(line.split(\":\"))>=2 else author.append(np.nan)\n",
    "            elif 'Release Date:' in line:\n",
    "                Relase_Date = line.split(\":\")[1].strip()\n",
    "                cleaned_release_date = Relase_Date.split('[')\n",
    "                relase_date.append(cleaned_release_date[0]) if len(cleaned_release_date)>=2 else relase_date.append(np.nan)\n",
    "            elif 'Language:' in line and ':' in line:\n",
    "                language.append(line.split(\":\")[1].strip()) if len(line.split(\":\"))>=2 else language.append(np.nan)\n",
    "                break # we no longer need to loop over the rest of file we got all we need.\n"
   ]
  },
  {
   "cell_type": "code",
   "execution_count": 4,
   "id": "656f906e",
   "metadata": {},
   "outputs": [
    {
     "data": {
      "text/plain": [
       "English                 1174\n",
       "English and Aleutian       1\n",
       "Spanish and English        1\n",
       "dtype: Int64"
      ]
     },
     "execution_count": 4,
     "metadata": {},
     "output_type": "execute_result"
    }
   ],
   "source": [
    "language = pd.array(language)\n",
    "language.value_counts()  #as we notice that most books in English so there is no need to add it datafram"
   ]
  },
  {
   "cell_type": "code",
   "execution_count": 5,
   "id": "a1606286",
   "metadata": {},
   "outputs": [
    {
     "name": "stdout",
     "output_type": "stream",
     "text": [
      "the lenght of author is :1176,title is :1176,and relase date is: 1176\n"
     ]
    }
   ],
   "source": [
    "#ensure that all list lenght are the same before construct data frame.\n",
    "print(f'the lenght of author is :{len(author)},title is :{len(title)},and relase date is: {len(relase_date)}')  "
   ]
  },
  {
   "cell_type": "code",
   "execution_count": 6,
   "id": "c2bf4f16",
   "metadata": {},
   "outputs": [],
   "source": [
    "book_info = pd.DataFrame({'title':title,'Author':author, 'relase_date':relase_date}, index = indices)"
   ]
  },
  {
   "cell_type": "code",
   "execution_count": 7,
   "id": "0e6d78f3",
   "metadata": {},
   "outputs": [
    {
     "data": {
      "text/html": [
       "<div>\n",
       "<style scoped>\n",
       "    .dataframe tbody tr th:only-of-type {\n",
       "        vertical-align: middle;\n",
       "    }\n",
       "\n",
       "    .dataframe tbody tr th {\n",
       "        vertical-align: top;\n",
       "    }\n",
       "\n",
       "    .dataframe thead th {\n",
       "        text-align: right;\n",
       "    }\n",
       "</style>\n",
       "<table border=\"1\" class=\"dataframe\">\n",
       "  <thead>\n",
       "    <tr style=\"text-align: right;\">\n",
       "      <th></th>\n",
       "      <th>title</th>\n",
       "      <th>Author</th>\n",
       "      <th>relase_date</th>\n",
       "    </tr>\n",
       "  </thead>\n",
       "  <tbody>\n",
       "    <tr>\n",
       "      <th>10001</th>\n",
       "      <td>Apocolocyntosis</td>\n",
       "      <td>Lucius Seneca</td>\n",
       "      <td>November 10, 2003</td>\n",
       "    </tr>\n",
       "    <tr>\n",
       "      <th>10002</th>\n",
       "      <td>The House on the Borderland</td>\n",
       "      <td>William Hope Hodgson</td>\n",
       "      <td>November 10, 2003</td>\n",
       "    </tr>\n",
       "    <tr>\n",
       "      <th>10003</th>\n",
       "      <td>My First Years As A Frenchwoman, 1876-1879</td>\n",
       "      <td>Mary King Waddington</td>\n",
       "      <td>November 10, 2003</td>\n",
       "    </tr>\n",
       "    <tr>\n",
       "      <th>10004</th>\n",
       "      <td>The Warriors</td>\n",
       "      <td>Lindsay, Anna Robertson Brown</td>\n",
       "      <td>November 10, 2003</td>\n",
       "    </tr>\n",
       "    <tr>\n",
       "      <th>10005</th>\n",
       "      <td>A Voyage to the Moon</td>\n",
       "      <td>George Tucker</td>\n",
       "      <td>November 7, 2003</td>\n",
       "    </tr>\n",
       "  </tbody>\n",
       "</table>\n",
       "</div>"
      ],
      "text/plain": [
       "                                            title  \\\n",
       "10001                             Apocolocyntosis   \n",
       "10002                 The House on the Borderland   \n",
       "10003  My First Years As A Frenchwoman, 1876-1879   \n",
       "10004                                The Warriors   \n",
       "10005                        A Voyage to the Moon   \n",
       "\n",
       "                              Author         relase_date  \n",
       "10001                  Lucius Seneca  November 10, 2003   \n",
       "10002           William Hope Hodgson  November 10, 2003   \n",
       "10003           Mary King Waddington  November 10, 2003   \n",
       "10004  Lindsay, Anna Robertson Brown  November 10, 2003   \n",
       "10005                  George Tucker   November 7, 2003   "
      ]
     },
     "execution_count": 7,
     "metadata": {},
     "output_type": "execute_result"
    }
   ],
   "source": [
    "book_info.head()"
   ]
  },
  {
   "cell_type": "markdown",
   "id": "fc0553fb",
   "metadata": {},
   "source": [
    "## change relase date to date format."
   ]
  },
  {
   "cell_type": "code",
   "execution_count": 8,
   "id": "157133c6",
   "metadata": {},
   "outputs": [],
   "source": [
    "book_info['relase_date'] = pd.to_datetime(book_info['relase_date'].str.strip(), format=\"%B %d, %Y\")"
   ]
  },
  {
   "cell_type": "code",
   "execution_count": 9,
   "id": "79d34807",
   "metadata": {},
   "outputs": [
    {
     "data": {
      "text/html": [
       "<div>\n",
       "<style scoped>\n",
       "    .dataframe tbody tr th:only-of-type {\n",
       "        vertical-align: middle;\n",
       "    }\n",
       "\n",
       "    .dataframe tbody tr th {\n",
       "        vertical-align: top;\n",
       "    }\n",
       "\n",
       "    .dataframe thead th {\n",
       "        text-align: right;\n",
       "    }\n",
       "</style>\n",
       "<table border=\"1\" class=\"dataframe\">\n",
       "  <thead>\n",
       "    <tr style=\"text-align: right;\">\n",
       "      <th></th>\n",
       "      <th>title</th>\n",
       "      <th>Author</th>\n",
       "      <th>relase_date</th>\n",
       "    </tr>\n",
       "  </thead>\n",
       "  <tbody>\n",
       "    <tr>\n",
       "      <th>10001</th>\n",
       "      <td>Apocolocyntosis</td>\n",
       "      <td>Lucius Seneca</td>\n",
       "      <td>2003-11-10</td>\n",
       "    </tr>\n",
       "    <tr>\n",
       "      <th>10002</th>\n",
       "      <td>The House on the Borderland</td>\n",
       "      <td>William Hope Hodgson</td>\n",
       "      <td>2003-11-10</td>\n",
       "    </tr>\n",
       "    <tr>\n",
       "      <th>10003</th>\n",
       "      <td>My First Years As A Frenchwoman, 1876-1879</td>\n",
       "      <td>Mary King Waddington</td>\n",
       "      <td>2003-11-10</td>\n",
       "    </tr>\n",
       "    <tr>\n",
       "      <th>10004</th>\n",
       "      <td>The Warriors</td>\n",
       "      <td>Lindsay, Anna Robertson Brown</td>\n",
       "      <td>2003-11-10</td>\n",
       "    </tr>\n",
       "    <tr>\n",
       "      <th>10005</th>\n",
       "      <td>A Voyage to the Moon</td>\n",
       "      <td>George Tucker</td>\n",
       "      <td>2003-11-07</td>\n",
       "    </tr>\n",
       "  </tbody>\n",
       "</table>\n",
       "</div>"
      ],
      "text/plain": [
       "                                            title  \\\n",
       "10001                             Apocolocyntosis   \n",
       "10002                 The House on the Borderland   \n",
       "10003  My First Years As A Frenchwoman, 1876-1879   \n",
       "10004                                The Warriors   \n",
       "10005                        A Voyage to the Moon   \n",
       "\n",
       "                              Author relase_date  \n",
       "10001                  Lucius Seneca  2003-11-10  \n",
       "10002           William Hope Hodgson  2003-11-10  \n",
       "10003           Mary King Waddington  2003-11-10  \n",
       "10004  Lindsay, Anna Robertson Brown  2003-11-10  \n",
       "10005                  George Tucker  2003-11-07  "
      ]
     },
     "execution_count": 9,
     "metadata": {},
     "output_type": "execute_result"
    }
   ],
   "source": [
    "book_info.head()"
   ]
  },
  {
   "cell_type": "markdown",
   "id": "dbd9fc79",
   "metadata": {},
   "source": [
    "### getting Books body to start analysis it."
   ]
  },
  {
   "cell_type": "markdown",
   "id": "3f3d154a",
   "metadata": {},
   "source": [
    "## Functions"
   ]
  },
  {
   "cell_type": "code",
   "execution_count": 10,
   "id": "4cbda58f",
   "metadata": {},
   "outputs": [],
   "source": [
    "#this function gives us the body of the story without introduction and tail. \n",
    "def getting_text(file):\n",
    "    book = ''\n",
    "    fetch = False\n",
    "    with open('dataset/'+file,'r') as fid:\n",
    "        for line in fid:\n",
    "            #all books end by one of these statments,and after this line is just a header of Gutenburg porject it self so I break book after return book as a generator. \n",
    "            if 'End of the Project Gutenberg' in line or 'End of Project Gutenberg' in line or '***END OF THE PROJECT' in line or '*** END OF THE PROJECT' in line: \n",
    "                yield book  #I return book as a generator to save memory and get hight performance.\n",
    "                break\n",
    "            if fetch :\n",
    "                book += line\n",
    "                #every book start with one of these lines, so from this line will construct text\n",
    "            if '*** START OF TH' in line or '***START OF TH' in line:\n",
    "                fetch = True  #make this variable true to start construct book, and this will help us to avoid analysis the introduction of each book."
   ]
  },
  {
   "cell_type": "code",
   "execution_count": 11,
   "id": "e5d395c8",
   "metadata": {},
   "outputs": [],
   "source": [
    "sw = stopwords.words(\"english\")  #get stop words to use it in filtering.\n",
    "#initiate a tokenizer, I put it outside the function to avoid repeated it every time I called the function.\n",
    "reg_toknize = RegexpTokenizer('[a-z]{3,}|[A-Z]{3,}') #we just choose words with more than 3 letters which it is form a meaningful word, that permits us to get the writer's sentiment."
   ]
  },
  {
   "cell_type": "code",
   "execution_count": 12,
   "id": "3b840842",
   "metadata": {},
   "outputs": [],
   "source": [
    "#this function responsable to build word and sentence tokenizations\n",
    "def tokenization(text, typ):\n",
    "    book = ''\n",
    "    for line in text:\n",
    "        book += line\n",
    "    if typ == 'w':\n",
    "        book_toknize = reg_toknize.tokenize(book) \n",
    "        filter_toknize = [word for word in book_toknize if not word.lower() in sw] \n",
    "        return filter_toknize  \n",
    "    elif typ == 's':\n",
    "        book = book.replace('\\n',' ')   #replace break lines form text\n",
    "        book = book.replace(string.punctuation,' ')  #remove all punctuation from text.\n",
    "        sentence_toknize = nltk.tokenize.sent_tokenize(book)\n",
    "        return sentence_toknize      "
   ]
  },
  {
   "cell_type": "code",
   "execution_count": 13,
   "id": "499f45e5",
   "metadata": {},
   "outputs": [],
   "source": [
    "#this fucntion reponsable to get statistics about each book the retrun it as list\n",
    "def get_words_stat(filter_tok_book):\n",
    "    n_words = len(filter_tok_book)\n",
    "    n_unique = len(set(filter_tok_book))\n",
    "    if n_words > 0 and n_unique > 0:\n",
    "        lex_div = round(n_unique/n_words,2)\n",
    "    else :\n",
    "        lex_div = 0     #in case book is empty, not raise an error\n",
    "    fdist = FreqDist(filter_tok_book)  #it is a NLTK class so i turned it to dictonary,\n",
    "    n_hapaxes = len(fdist.hapaxes())\n",
    "    fdist = dict(fdist)\n",
    "    return [n_words, n_unique, lex_div,top_10_words(fdist),n_hapaxes]"
   ]
  },
  {
   "cell_type": "code",
   "execution_count": 14,
   "id": "c4ac97ee",
   "metadata": {},
   "outputs": [],
   "source": [
    "#this function takes dictionary of top words from \"get words stat\" function and return the top 10 words\n",
    "def top_10_words(dic):\n",
    "    top_10 = []\n",
    "    for k,v in dic.items():\n",
    "        top_10.append([v,k])\n",
    "    top_10.sort(reverse=True)\n",
    "    return top_10[:10]"
   ]
  },
  {
   "cell_type": "code",
   "execution_count": 15,
   "id": "c2723013",
   "metadata": {},
   "outputs": [],
   "source": [
    "#in this funciton I just get all text files from my local desk and store it dictinary to prepare constsruct data frame.\n",
    "def get_files():\n",
    "    files = os.listdir(\"dataset\")\n",
    "    for file in files:\n",
    "        text = getting_text(file)\n",
    "        index = int(file.split('.')[0])\n",
    "        books[index] = text\n",
    "    "
   ]
  },
  {
   "cell_type": "markdown",
   "id": "301906cc",
   "metadata": {},
   "source": [
    "### store all text of book inside dictionary to get stats for each book"
   ]
  },
  {
   "cell_type": "code",
   "execution_count": 16,
   "id": "4b95263c",
   "metadata": {},
   "outputs": [],
   "source": [
    "books = {}  #dictinary to store all books inside it\n",
    "get_files()"
   ]
  },
  {
   "cell_type": "code",
   "execution_count": 17,
   "id": "ac9d476f",
   "metadata": {},
   "outputs": [
    {
     "data": {
      "text/plain": [
       "True"
      ]
     },
     "execution_count": 17,
     "metadata": {},
     "output_type": "execute_result"
    }
   ],
   "source": [
    "len(files) == len(books)  # to be sure that every file represented into dictionary"
   ]
  },
  {
   "cell_type": "code",
   "execution_count": 18,
   "id": "8d2d91cc",
   "metadata": {},
   "outputs": [],
   "source": [
    "# intiate dictinary to use use it in forming data frame.\n",
    "book_stats  = {'n_words':[], 'n_unique':[], 'lex_div':[], 'most_repeated_words':[],'n_hapaxes':[]}"
   ]
  },
  {
   "cell_type": "code",
   "execution_count": 19,
   "id": "b6ce5239",
   "metadata": {},
   "outputs": [],
   "source": [
    "#start to iterate over all files.\n",
    "for book in books.values():\n",
    "    #get the tokanization of the book\n",
    "    words_tok = tokenization(book,'w')\n",
    "    #get stats of the book, send the tokanization to get stat function\n",
    "    book_stat = get_words_stat(words_tok)\n",
    "    #store return values in the dictionary\n",
    "    book_stats['n_words'].append(book_stat[0])\n",
    "    book_stats['n_unique'].append(book_stat[1])\n",
    "    book_stats['lex_div'].append(book_stat[2])\n",
    "    book_stats['most_repeated_words'].append(book_stat[3])\n",
    "    book_stats['n_hapaxes'].append(book_stat[4]) "
   ]
  },
  {
   "cell_type": "code",
   "execution_count": 20,
   "id": "ba78a318",
   "metadata": {},
   "outputs": [],
   "source": [
    "#builds data fram about books statistics.\n",
    "df_stats = pd.DataFrame(book_stats,index=indices )"
   ]
  },
  {
   "cell_type": "code",
   "execution_count": 21,
   "id": "9a736122",
   "metadata": {},
   "outputs": [
    {
     "data": {
      "text/html": [
       "<div>\n",
       "<style scoped>\n",
       "    .dataframe tbody tr th:only-of-type {\n",
       "        vertical-align: middle;\n",
       "    }\n",
       "\n",
       "    .dataframe tbody tr th {\n",
       "        vertical-align: top;\n",
       "    }\n",
       "\n",
       "    .dataframe thead th {\n",
       "        text-align: right;\n",
       "    }\n",
       "</style>\n",
       "<table border=\"1\" class=\"dataframe\">\n",
       "  <thead>\n",
       "    <tr style=\"text-align: right;\">\n",
       "      <th></th>\n",
       "      <th>n_words</th>\n",
       "      <th>n_unique</th>\n",
       "      <th>lex_div</th>\n",
       "      <th>most_repeated_words</th>\n",
       "      <th>n_hapaxes</th>\n",
       "    </tr>\n",
       "  </thead>\n",
       "  <tbody>\n",
       "    <tr>\n",
       "      <th>10001</th>\n",
       "      <td>2737</td>\n",
       "      <td>1510</td>\n",
       "      <td>0.55</td>\n",
       "      <td>[[32, laudius], [25, one], [21, made], [19, oo...</td>\n",
       "      <td>1044</td>\n",
       "    </tr>\n",
       "    <tr>\n",
       "      <th>10002</th>\n",
       "      <td>24357</td>\n",
       "      <td>5091</td>\n",
       "      <td>0.21</td>\n",
       "      <td>[[174, could], [155, time], [145, seemed], [14...</td>\n",
       "      <td>2465</td>\n",
       "    </tr>\n",
       "    <tr>\n",
       "      <th>10003</th>\n",
       "      <td>30656</td>\n",
       "      <td>6029</td>\n",
       "      <td>0.20</td>\n",
       "      <td>[[420, one], [225, would], [214, always], [207...</td>\n",
       "      <td>2965</td>\n",
       "    </tr>\n",
       "    <tr>\n",
       "      <th>10004</th>\n",
       "      <td>24458</td>\n",
       "      <td>6818</td>\n",
       "      <td>0.28</td>\n",
       "      <td>[[280, man], [269, one], [230, work], [217, li...</td>\n",
       "      <td>3781</td>\n",
       "    </tr>\n",
       "    <tr>\n",
       "      <th>10005</th>\n",
       "      <td>32561</td>\n",
       "      <td>7633</td>\n",
       "      <td>0.23</td>\n",
       "      <td>[[291, one], [196, would], [167, rahmin], [146...</td>\n",
       "      <td>3341</td>\n",
       "    </tr>\n",
       "    <tr>\n",
       "      <th>10006</th>\n",
       "      <td>6170</td>\n",
       "      <td>2790</td>\n",
       "      <td>0.45</td>\n",
       "      <td>[[73, thou], [38, love], [35, one], [31, time]...</td>\n",
       "      <td>1751</td>\n",
       "    </tr>\n",
       "    <tr>\n",
       "      <th>10008</th>\n",
       "      <td>33613</td>\n",
       "      <td>7880</td>\n",
       "      <td>0.23</td>\n",
       "      <td>[[356, said], [184, one], [183, could], [175, ...</td>\n",
       "      <td>3960</td>\n",
       "    </tr>\n",
       "    <tr>\n",
       "      <th>10009</th>\n",
       "      <td>41471</td>\n",
       "      <td>8028</td>\n",
       "      <td>0.19</td>\n",
       "      <td>[[297, upon], [279, one], [237, old], [212, li...</td>\n",
       "      <td>3783</td>\n",
       "    </tr>\n",
       "    <tr>\n",
       "      <th>10010</th>\n",
       "      <td>5182</td>\n",
       "      <td>2459</td>\n",
       "      <td>0.47</td>\n",
       "      <td>[[41, may], [36, HOWARD], [35, spirit], [27, l...</td>\n",
       "      <td>1529</td>\n",
       "    </tr>\n",
       "    <tr>\n",
       "      <th>10011</th>\n",
       "      <td>13972</td>\n",
       "      <td>1078</td>\n",
       "      <td>0.08</td>\n",
       "      <td>[[277, hot], [277, add], [270, cup], [252, sal...</td>\n",
       "      <td>384</td>\n",
       "    </tr>\n",
       "  </tbody>\n",
       "</table>\n",
       "</div>"
      ],
      "text/plain": [
       "       n_words  n_unique  lex_div  \\\n",
       "10001     2737      1510     0.55   \n",
       "10002    24357      5091     0.21   \n",
       "10003    30656      6029     0.20   \n",
       "10004    24458      6818     0.28   \n",
       "10005    32561      7633     0.23   \n",
       "10006     6170      2790     0.45   \n",
       "10008    33613      7880     0.23   \n",
       "10009    41471      8028     0.19   \n",
       "10010     5182      2459     0.47   \n",
       "10011    13972      1078     0.08   \n",
       "\n",
       "                                     most_repeated_words  n_hapaxes  \n",
       "10001  [[32, laudius], [25, one], [21, made], [19, oo...       1044  \n",
       "10002  [[174, could], [155, time], [145, seemed], [14...       2465  \n",
       "10003  [[420, one], [225, would], [214, always], [207...       2965  \n",
       "10004  [[280, man], [269, one], [230, work], [217, li...       3781  \n",
       "10005  [[291, one], [196, would], [167, rahmin], [146...       3341  \n",
       "10006  [[73, thou], [38, love], [35, one], [31, time]...       1751  \n",
       "10008  [[356, said], [184, one], [183, could], [175, ...       3960  \n",
       "10009  [[297, upon], [279, one], [237, old], [212, li...       3783  \n",
       "10010  [[41, may], [36, HOWARD], [35, spirit], [27, l...       1529  \n",
       "10011  [[277, hot], [277, add], [270, cup], [252, sal...        384  "
      ]
     },
     "execution_count": 21,
     "metadata": {},
     "output_type": "execute_result"
    }
   ],
   "source": [
    "df_stats.head(10)"
   ]
  },
  {
   "cell_type": "code",
   "execution_count": 22,
   "id": "0fea832e",
   "metadata": {},
   "outputs": [
    {
     "data": {
      "text/html": [
       "<div>\n",
       "<style scoped>\n",
       "    .dataframe tbody tr th:only-of-type {\n",
       "        vertical-align: middle;\n",
       "    }\n",
       "\n",
       "    .dataframe tbody tr th {\n",
       "        vertical-align: top;\n",
       "    }\n",
       "\n",
       "    .dataframe thead th {\n",
       "        text-align: right;\n",
       "    }\n",
       "</style>\n",
       "<table border=\"1\" class=\"dataframe\">\n",
       "  <thead>\n",
       "    <tr style=\"text-align: right;\">\n",
       "      <th></th>\n",
       "      <th>n_words</th>\n",
       "      <th>n_unique</th>\n",
       "      <th>lex_div</th>\n",
       "      <th>n_hapaxes</th>\n",
       "    </tr>\n",
       "  </thead>\n",
       "  <tbody>\n",
       "    <tr>\n",
       "      <th>10001</th>\n",
       "      <td>2737.0</td>\n",
       "      <td>1510.0</td>\n",
       "      <td>0.55</td>\n",
       "      <td>1044.0</td>\n",
       "    </tr>\n",
       "    <tr>\n",
       "      <th>10002</th>\n",
       "      <td>24357.0</td>\n",
       "      <td>5091.0</td>\n",
       "      <td>0.21</td>\n",
       "      <td>2465.0</td>\n",
       "    </tr>\n",
       "    <tr>\n",
       "      <th>10003</th>\n",
       "      <td>30656.0</td>\n",
       "      <td>6029.0</td>\n",
       "      <td>0.20</td>\n",
       "      <td>2965.0</td>\n",
       "    </tr>\n",
       "    <tr>\n",
       "      <th>10004</th>\n",
       "      <td>24458.0</td>\n",
       "      <td>6818.0</td>\n",
       "      <td>0.28</td>\n",
       "      <td>3781.0</td>\n",
       "    </tr>\n",
       "    <tr>\n",
       "      <th>10005</th>\n",
       "      <td>32561.0</td>\n",
       "      <td>7633.0</td>\n",
       "      <td>0.23</td>\n",
       "      <td>3341.0</td>\n",
       "    </tr>\n",
       "    <tr>\n",
       "      <th>...</th>\n",
       "      <td>...</td>\n",
       "      <td>...</td>\n",
       "      <td>...</td>\n",
       "      <td>...</td>\n",
       "    </tr>\n",
       "    <tr>\n",
       "      <th>12380</th>\n",
       "      <td>39610.0</td>\n",
       "      <td>9272.0</td>\n",
       "      <td>0.23</td>\n",
       "      <td>4643.0</td>\n",
       "    </tr>\n",
       "    <tr>\n",
       "      <th>12381</th>\n",
       "      <td>24625.0</td>\n",
       "      <td>5485.0</td>\n",
       "      <td>0.22</td>\n",
       "      <td>2597.0</td>\n",
       "    </tr>\n",
       "    <tr>\n",
       "      <th>12383</th>\n",
       "      <td>63509.0</td>\n",
       "      <td>13261.0</td>\n",
       "      <td>0.21</td>\n",
       "      <td>6575.0</td>\n",
       "    </tr>\n",
       "    <tr>\n",
       "      <th>12385</th>\n",
       "      <td>59839.0</td>\n",
       "      <td>9920.0</td>\n",
       "      <td>0.17</td>\n",
       "      <td>4326.0</td>\n",
       "    </tr>\n",
       "    <tr>\n",
       "      <th>12386</th>\n",
       "      <td>35949.0</td>\n",
       "      <td>7401.0</td>\n",
       "      <td>0.21</td>\n",
       "      <td>3785.0</td>\n",
       "    </tr>\n",
       "  </tbody>\n",
       "</table>\n",
       "<p>1176 rows × 4 columns</p>\n",
       "</div>"
      ],
      "text/plain": [
       "       n_words  n_unique  lex_div  n_hapaxes\n",
       "10001   2737.0    1510.0     0.55     1044.0\n",
       "10002  24357.0    5091.0     0.21     2465.0\n",
       "10003  30656.0    6029.0     0.20     2965.0\n",
       "10004  24458.0    6818.0     0.28     3781.0\n",
       "10005  32561.0    7633.0     0.23     3341.0\n",
       "...        ...       ...      ...        ...\n",
       "12380  39610.0    9272.0     0.23     4643.0\n",
       "12381  24625.0    5485.0     0.22     2597.0\n",
       "12383  63509.0   13261.0     0.21     6575.0\n",
       "12385  59839.0    9920.0     0.17     4326.0\n",
       "12386  35949.0    7401.0     0.21     3785.0\n",
       "\n",
       "[1176 rows x 4 columns]"
      ]
     },
     "execution_count": 22,
     "metadata": {},
     "output_type": "execute_result"
    }
   ],
   "source": [
    "#change data types to float to plot them without raising errors.\n",
    "df_stats[['n_words','n_unique','lex_div','n_hapaxes']].astype('float64', copy= False)"
   ]
  },
  {
   "cell_type": "code",
   "execution_count": 23,
   "id": "996401eb",
   "metadata": {
    "scrolled": true
   },
   "outputs": [
    {
     "data": {
      "text/html": [
       "<div>\n",
       "<style scoped>\n",
       "    .dataframe tbody tr th:only-of-type {\n",
       "        vertical-align: middle;\n",
       "    }\n",
       "\n",
       "    .dataframe tbody tr th {\n",
       "        vertical-align: top;\n",
       "    }\n",
       "\n",
       "    .dataframe thead th {\n",
       "        text-align: right;\n",
       "    }\n",
       "</style>\n",
       "<table border=\"1\" class=\"dataframe\">\n",
       "  <thead>\n",
       "    <tr style=\"text-align: right;\">\n",
       "      <th></th>\n",
       "      <th>n_words</th>\n",
       "      <th>n_unique</th>\n",
       "      <th>lex_div</th>\n",
       "      <th>n_hapaxes</th>\n",
       "    </tr>\n",
       "  </thead>\n",
       "  <tbody>\n",
       "    <tr>\n",
       "      <th>count</th>\n",
       "      <td>1176.000000</td>\n",
       "      <td>1176.000000</td>\n",
       "      <td>1176.000000</td>\n",
       "      <td>1176.000000</td>\n",
       "    </tr>\n",
       "    <tr>\n",
       "      <th>mean</th>\n",
       "      <td>28166.926871</td>\n",
       "      <td>5825.628401</td>\n",
       "      <td>0.309898</td>\n",
       "      <td>2946.098639</td>\n",
       "    </tr>\n",
       "    <tr>\n",
       "      <th>std</th>\n",
       "      <td>29500.984949</td>\n",
       "      <td>3869.881592</td>\n",
       "      <td>0.158402</td>\n",
       "      <td>1803.460680</td>\n",
       "    </tr>\n",
       "    <tr>\n",
       "      <th>min</th>\n",
       "      <td>45.000000</td>\n",
       "      <td>29.000000</td>\n",
       "      <td>0.050000</td>\n",
       "      <td>17.000000</td>\n",
       "    </tr>\n",
       "    <tr>\n",
       "      <th>25%</th>\n",
       "      <td>6834.000000</td>\n",
       "      <td>3386.250000</td>\n",
       "      <td>0.200000</td>\n",
       "      <td>2009.000000</td>\n",
       "    </tr>\n",
       "    <tr>\n",
       "      <th>50%</th>\n",
       "      <td>21667.000000</td>\n",
       "      <td>5204.000000</td>\n",
       "      <td>0.260000</td>\n",
       "      <td>2672.000000</td>\n",
       "    </tr>\n",
       "    <tr>\n",
       "      <th>75%</th>\n",
       "      <td>40939.000000</td>\n",
       "      <td>7994.250000</td>\n",
       "      <td>0.390000</td>\n",
       "      <td>3794.500000</td>\n",
       "    </tr>\n",
       "    <tr>\n",
       "      <th>max</th>\n",
       "      <td>464562.000000</td>\n",
       "      <td>50812.000000</td>\n",
       "      <td>0.890000</td>\n",
       "      <td>27504.000000</td>\n",
       "    </tr>\n",
       "  </tbody>\n",
       "</table>\n",
       "</div>"
      ],
      "text/plain": [
       "             n_words      n_unique      lex_div     n_hapaxes\n",
       "count    1176.000000   1176.000000  1176.000000   1176.000000\n",
       "mean    28166.926871   5825.628401     0.309898   2946.098639\n",
       "std     29500.984949   3869.881592     0.158402   1803.460680\n",
       "min        45.000000     29.000000     0.050000     17.000000\n",
       "25%      6834.000000   3386.250000     0.200000   2009.000000\n",
       "50%     21667.000000   5204.000000     0.260000   2672.000000\n",
       "75%     40939.000000   7994.250000     0.390000   3794.500000\n",
       "max    464562.000000  50812.000000     0.890000  27504.000000"
      ]
     },
     "execution_count": 23,
     "metadata": {},
     "output_type": "execute_result"
    }
   ],
   "source": [
    "df_stats.describe()"
   ]
  },
  {
   "cell_type": "markdown",
   "id": "48ae4dab",
   "metadata": {},
   "source": [
    "### Exploratory Data Analysis "
   ]
  },
  {
   "cell_type": "markdown",
   "id": "bd12176f",
   "metadata": {},
   "source": [
    "##  merge two data frames to get the final one which we will work with."
   ]
  },
  {
   "cell_type": "code",
   "execution_count": 24,
   "id": "27edffce",
   "metadata": {},
   "outputs": [],
   "source": [
    "df = book_info.join(df_stats, how='left')"
   ]
  },
  {
   "cell_type": "code",
   "execution_count": 25,
   "id": "44d301c4",
   "metadata": {
    "scrolled": true
   },
   "outputs": [
    {
     "data": {
      "text/html": [
       "<div>\n",
       "<style scoped>\n",
       "    .dataframe tbody tr th:only-of-type {\n",
       "        vertical-align: middle;\n",
       "    }\n",
       "\n",
       "    .dataframe tbody tr th {\n",
       "        vertical-align: top;\n",
       "    }\n",
       "\n",
       "    .dataframe thead th {\n",
       "        text-align: right;\n",
       "    }\n",
       "</style>\n",
       "<table border=\"1\" class=\"dataframe\">\n",
       "  <thead>\n",
       "    <tr style=\"text-align: right;\">\n",
       "      <th></th>\n",
       "      <th>title</th>\n",
       "      <th>Author</th>\n",
       "      <th>relase_date</th>\n",
       "      <th>n_words</th>\n",
       "      <th>n_unique</th>\n",
       "      <th>lex_div</th>\n",
       "      <th>most_repeated_words</th>\n",
       "      <th>n_hapaxes</th>\n",
       "    </tr>\n",
       "  </thead>\n",
       "  <tbody>\n",
       "    <tr>\n",
       "      <th>10001</th>\n",
       "      <td>Apocolocyntosis</td>\n",
       "      <td>Lucius Seneca</td>\n",
       "      <td>2003-11-10</td>\n",
       "      <td>2737</td>\n",
       "      <td>1510</td>\n",
       "      <td>0.55</td>\n",
       "      <td>[[32, laudius], [25, one], [21, made], [19, oo...</td>\n",
       "      <td>1044</td>\n",
       "    </tr>\n",
       "    <tr>\n",
       "      <th>10002</th>\n",
       "      <td>The House on the Borderland</td>\n",
       "      <td>William Hope Hodgson</td>\n",
       "      <td>2003-11-10</td>\n",
       "      <td>24357</td>\n",
       "      <td>5091</td>\n",
       "      <td>0.21</td>\n",
       "      <td>[[174, could], [155, time], [145, seemed], [14...</td>\n",
       "      <td>2465</td>\n",
       "    </tr>\n",
       "    <tr>\n",
       "      <th>10003</th>\n",
       "      <td>My First Years As A Frenchwoman, 1876-1879</td>\n",
       "      <td>Mary King Waddington</td>\n",
       "      <td>2003-11-10</td>\n",
       "      <td>30656</td>\n",
       "      <td>6029</td>\n",
       "      <td>0.20</td>\n",
       "      <td>[[420, one], [225, would], [214, always], [207...</td>\n",
       "      <td>2965</td>\n",
       "    </tr>\n",
       "    <tr>\n",
       "      <th>10004</th>\n",
       "      <td>The Warriors</td>\n",
       "      <td>Lindsay, Anna Robertson Brown</td>\n",
       "      <td>2003-11-10</td>\n",
       "      <td>24458</td>\n",
       "      <td>6818</td>\n",
       "      <td>0.28</td>\n",
       "      <td>[[280, man], [269, one], [230, work], [217, li...</td>\n",
       "      <td>3781</td>\n",
       "    </tr>\n",
       "    <tr>\n",
       "      <th>10005</th>\n",
       "      <td>A Voyage to the Moon</td>\n",
       "      <td>George Tucker</td>\n",
       "      <td>2003-11-07</td>\n",
       "      <td>32561</td>\n",
       "      <td>7633</td>\n",
       "      <td>0.23</td>\n",
       "      <td>[[291, one], [196, would], [167, rahmin], [146...</td>\n",
       "      <td>3341</td>\n",
       "    </tr>\n",
       "  </tbody>\n",
       "</table>\n",
       "</div>"
      ],
      "text/plain": [
       "                                            title  \\\n",
       "10001                             Apocolocyntosis   \n",
       "10002                 The House on the Borderland   \n",
       "10003  My First Years As A Frenchwoman, 1876-1879   \n",
       "10004                                The Warriors   \n",
       "10005                        A Voyage to the Moon   \n",
       "\n",
       "                              Author relase_date  n_words  n_unique  lex_div  \\\n",
       "10001                  Lucius Seneca  2003-11-10     2737      1510     0.55   \n",
       "10002           William Hope Hodgson  2003-11-10    24357      5091     0.21   \n",
       "10003           Mary King Waddington  2003-11-10    30656      6029     0.20   \n",
       "10004  Lindsay, Anna Robertson Brown  2003-11-10    24458      6818     0.28   \n",
       "10005                  George Tucker  2003-11-07    32561      7633     0.23   \n",
       "\n",
       "                                     most_repeated_words  n_hapaxes  \n",
       "10001  [[32, laudius], [25, one], [21, made], [19, oo...       1044  \n",
       "10002  [[174, could], [155, time], [145, seemed], [14...       2465  \n",
       "10003  [[420, one], [225, would], [214, always], [207...       2965  \n",
       "10004  [[280, man], [269, one], [230, work], [217, li...       3781  \n",
       "10005  [[291, one], [196, would], [167, rahmin], [146...       3341  "
      ]
     },
     "execution_count": 25,
     "metadata": {},
     "output_type": "execute_result"
    }
   ],
   "source": [
    "df.head()"
   ]
  },
  {
   "cell_type": "code",
   "execution_count": 26,
   "id": "062db818",
   "metadata": {},
   "outputs": [
    {
     "name": "stdout",
     "output_type": "stream",
     "text": [
      "<class 'pandas.core.frame.DataFrame'>\n",
      "Int64Index: 1176 entries, 10001 to 12386\n",
      "Data columns (total 8 columns):\n",
      " #   Column               Non-Null Count  Dtype         \n",
      "---  ------               --------------  -----         \n",
      " 0   title                1176 non-null   object        \n",
      " 1   Author               1176 non-null   object        \n",
      " 2   relase_date          1174 non-null   datetime64[ns]\n",
      " 3   n_words              1176 non-null   int64         \n",
      " 4   n_unique             1176 non-null   int64         \n",
      " 5   lex_div              1176 non-null   float64       \n",
      " 6   most_repeated_words  1176 non-null   object        \n",
      " 7   n_hapaxes            1176 non-null   int64         \n",
      "dtypes: datetime64[ns](1), float64(1), int64(3), object(3)\n",
      "memory usage: 115.0+ KB\n"
     ]
    }
   ],
   "source": [
    "df.info()"
   ]
  },
  {
   "cell_type": "code",
   "execution_count": 27,
   "id": "72bc5947",
   "metadata": {
    "scrolled": true
   },
   "outputs": [
    {
     "data": {
      "text/plain": [
       "title                  0\n",
       "Author                 0\n",
       "relase_date            0\n",
       "n_words                0\n",
       "n_unique               0\n",
       "lex_div                0\n",
       "most_repeated_words    0\n",
       "n_hapaxes              0\n",
       "dtype: int64"
      ]
     },
     "execution_count": 27,
     "metadata": {},
     "output_type": "execute_result"
    }
   ],
   "source": [
    "df[df.n_words == 0].count() #in get stats function I made a condition if empty file return number of words = zero, so i used this condition to check if there is a missing value."
   ]
  },
  {
   "cell_type": "markdown",
   "id": "4e786aa4",
   "metadata": {},
   "source": [
    "### from the previous two queries, we are sure there are no missing values in the data frame."
   ]
  },
  {
   "cell_type": "markdown",
   "id": "ed444a18",
   "metadata": {},
   "source": [
    "# Descriptive Analytics"
   ]
  },
  {
   "cell_type": "markdown",
   "id": "68690be3",
   "metadata": {},
   "source": [
    "## who is the most writer has books?"
   ]
  },
  {
   "cell_type": "code",
   "execution_count": 28,
   "id": "d68c8912",
   "metadata": {},
   "outputs": [
    {
     "data": {
      "text/plain": [
       "Various                 201\n",
       "W.W. Jacobs              52\n",
       "Anonymous                30\n",
       "Roger McGuinn            30\n",
       "John Lord                14\n",
       "Charles Kingsley         14\n",
       "Unknown                  11\n",
       "James D. Richardson       8\n",
       "Arthur Schopenhauer       7\n",
       "Richard Le Gallienne      7\n",
       "Name: Author, dtype: int64"
      ]
     },
     "execution_count": 28,
     "metadata": {},
     "output_type": "execute_result"
    }
   ],
   "source": [
    "Author_counts = df.Author.value_counts()[:10]\n",
    "Author_counts"
   ]
  },
  {
   "cell_type": "code",
   "execution_count": 29,
   "id": "7143dca0",
   "metadata": {},
   "outputs": [
    {
     "data": {
      "text/plain": [
       "<AxesSubplot:xlabel='Author'>"
      ]
     },
     "execution_count": 29,
     "metadata": {},
     "output_type": "execute_result"
    },
    {
     "data": {
      "image/png": "[encoded data removed]",
      "text/plain": [
       "<Figure size 720x720 with 1 Axes>"
      ]
     },
     "metadata": {
      "needs_background": "light"
     },
     "output_type": "display_data"
    }
   ],
   "source": [
    "plt.figure(figsize=(10,10))\n",
    "sns.barplot(y = Author_counts.index, x = Author_counts)"
   ]
  },
  {
   "cell_type": "markdown",
   "id": "fce72635",
   "metadata": {},
   "source": [
    "* as we noted from the above graph there are many books we can't know their author names, so we will use the available writer's names to know more about their writing style and we going to compare them with other writers."
   ]
  },
  {
   "cell_type": "code",
   "execution_count": 30,
   "id": "1b57ffad",
   "metadata": {},
   "outputs": [
    {
     "data": {
      "text/plain": [
       "['W.W. Jacobs',\n",
       " 'Roger McGuinn',\n",
       " 'John Lord',\n",
       " 'Charles Kingsley',\n",
       " 'James D. Richardson',\n",
       " 'Arthur Schopenhauer',\n",
       " 'Richard Le Gallienne']"
      ]
     },
     "execution_count": 30,
     "metadata": {},
     "output_type": "execute_result"
    }
   ],
   "source": [
    "#remove book with unkown authors\n",
    "top_authors = list(Author_counts.index)   \n",
    "top_authors = [x for x in top_authors if x not in ['Various','Anonymous','Unknown']] \n",
    "top_authors"
   ]
  },
  {
   "cell_type": "markdown",
   "id": "738a68b4",
   "metadata": {},
   "source": [
    "### what is the number of words, unique words, and lex_diversity, number of hapaxes (the number of words appear once in the text) relative to other authors?"
   ]
  },
  {
   "cell_type": "code",
   "execution_count": 31,
   "id": "41e6eb0c",
   "metadata": {},
   "outputs": [
    {
     "data": {
      "text/html": [
       "<div>\n",
       "<style scoped>\n",
       "    .dataframe tbody tr th:only-of-type {\n",
       "        vertical-align: middle;\n",
       "    }\n",
       "\n",
       "    .dataframe tbody tr th {\n",
       "        vertical-align: top;\n",
       "    }\n",
       "\n",
       "    .dataframe thead th {\n",
       "        text-align: right;\n",
       "    }\n",
       "</style>\n",
       "<table border=\"1\" class=\"dataframe\">\n",
       "  <thead>\n",
       "    <tr style=\"text-align: right;\">\n",
       "      <th></th>\n",
       "      <th>title</th>\n",
       "      <th>Author</th>\n",
       "      <th>relase_date</th>\n",
       "      <th>n_words</th>\n",
       "      <th>n_unique</th>\n",
       "      <th>lex_div</th>\n",
       "      <th>most_repeated_words</th>\n",
       "      <th>n_hapaxes</th>\n",
       "    </tr>\n",
       "  </thead>\n",
       "  <tbody>\n",
       "    <tr>\n",
       "      <th>10116</th>\n",
       "      <td>All Saints' Day and Other Sermons</td>\n",
       "      <td>Charles Kingsley</td>\n",
       "      <td>2003-11-17</td>\n",
       "      <td>49985</td>\n",
       "      <td>6971</td>\n",
       "      <td>0.14</td>\n",
       "      <td>[[542, man], [393, ord], [378, hrist], [357, g...</td>\n",
       "      <td>3062</td>\n",
       "    </tr>\n",
       "    <tr>\n",
       "      <th>10251</th>\n",
       "      <td>Town Geology</td>\n",
       "      <td>Charles Kingsley</td>\n",
       "      <td>2003-11-24</td>\n",
       "      <td>20334</td>\n",
       "      <td>4746</td>\n",
       "      <td>0.23</td>\n",
       "      <td>[[159, may], [147, one], [146, sea], [143, wou...</td>\n",
       "      <td>2400</td>\n",
       "    </tr>\n",
       "    <tr>\n",
       "      <th>10325</th>\n",
       "      <td>The Gospel of the Pentateuch</td>\n",
       "      <td>Charles Kingsley</td>\n",
       "      <td>2003-11-27</td>\n",
       "      <td>24067</td>\n",
       "      <td>4313</td>\n",
       "      <td>0.18</td>\n",
       "      <td>[[315, man], [229, ord], [219, men], [185, may...</td>\n",
       "      <td>2010</td>\n",
       "    </tr>\n",
       "    <tr>\n",
       "      <th>10326</th>\n",
       "      <td>David</td>\n",
       "      <td>Charles Kingsley</td>\n",
       "      <td>2003-11-27</td>\n",
       "      <td>6785</td>\n",
       "      <td>2525</td>\n",
       "      <td>0.37</td>\n",
       "      <td>[[136, avid], [95, man], [58, ord], [47, life]...</td>\n",
       "      <td>1467</td>\n",
       "    </tr>\n",
       "    <tr>\n",
       "      <th>10348</th>\n",
       "      <td>Audio</td>\n",
       "      <td>Roger McGuinn</td>\n",
       "      <td>2004-01-08</td>\n",
       "      <td>227</td>\n",
       "      <td>180</td>\n",
       "      <td>0.79</td>\n",
       "      <td>[[5, sea], [4, work], [4, must], [4, money], [...</td>\n",
       "      <td>150</td>\n",
       "    </tr>\n",
       "  </tbody>\n",
       "</table>\n",
       "</div>"
      ],
      "text/plain": [
       "                                   title            Author relase_date  \\\n",
       "10116  All Saints' Day and Other Sermons  Charles Kingsley  2003-11-17   \n",
       "10251                       Town Geology  Charles Kingsley  2003-11-24   \n",
       "10325       The Gospel of the Pentateuch  Charles Kingsley  2003-11-27   \n",
       "10326                              David  Charles Kingsley  2003-11-27   \n",
       "10348                              Audio     Roger McGuinn  2004-01-08   \n",
       "\n",
       "       n_words  n_unique  lex_div  \\\n",
       "10116    49985      6971     0.14   \n",
       "10251    20334      4746     0.23   \n",
       "10325    24067      4313     0.18   \n",
       "10326     6785      2525     0.37   \n",
       "10348      227       180     0.79   \n",
       "\n",
       "                                     most_repeated_words  n_hapaxes  \n",
       "10116  [[542, man], [393, ord], [378, hrist], [357, g...       3062  \n",
       "10251  [[159, may], [147, one], [146, sea], [143, wou...       2400  \n",
       "10325  [[315, man], [229, ord], [219, men], [185, may...       2010  \n",
       "10326  [[136, avid], [95, man], [58, ord], [47, life]...       1467  \n",
       "10348  [[5, sea], [4, work], [4, must], [4, money], [...        150  "
      ]
     },
     "metadata": {},
     "output_type": "display_data"
    },
    {
     "name": "stdout",
     "output_type": "stream",
     "text": [
      "<class 'pandas.core.frame.DataFrame'>\n",
      "Int64Index: 132 entries, 10116 to 11481\n",
      "Data columns (total 8 columns):\n",
      " #   Column               Non-Null Count  Dtype         \n",
      "---  ------               --------------  -----         \n",
      " 0   title                132 non-null    object        \n",
      " 1   Author               132 non-null    object        \n",
      " 2   relase_date          132 non-null    datetime64[ns]\n",
      " 3   n_words              132 non-null    int64         \n",
      " 4   n_unique             132 non-null    int64         \n",
      " 5   lex_div              132 non-null    float64       \n",
      " 6   most_repeated_words  132 non-null    object        \n",
      " 7   n_hapaxes            132 non-null    int64         \n",
      "dtypes: datetime64[ns](1), float64(1), int64(3), object(3)\n",
      "memory usage: 9.3+ KB\n"
     ]
    },
    {
     "data": {
      "text/plain": [
       "None"
      ]
     },
     "metadata": {},
     "output_type": "display_data"
    }
   ],
   "source": [
    "#create data frame with top authors only\n",
    "df_top_authors = df[df.Author.isin(top_authors)]\n",
    "display(df_top_authors.head())\n",
    "display(df_top_authors.info())"
   ]
  },
  {
   "cell_type": "code",
   "execution_count": 32,
   "id": "5bc79274",
   "metadata": {},
   "outputs": [
    {
     "data": {
      "text/html": [
       "<div>\n",
       "<style scoped>\n",
       "    .dataframe tbody tr th:only-of-type {\n",
       "        vertical-align: middle;\n",
       "    }\n",
       "\n",
       "    .dataframe tbody tr th {\n",
       "        vertical-align: top;\n",
       "    }\n",
       "\n",
       "    .dataframe thead th {\n",
       "        text-align: right;\n",
       "    }\n",
       "</style>\n",
       "<table border=\"1\" class=\"dataframe\">\n",
       "  <thead>\n",
       "    <tr style=\"text-align: right;\">\n",
       "      <th></th>\n",
       "      <th>title</th>\n",
       "      <th>Author</th>\n",
       "      <th>relase_date</th>\n",
       "      <th>n_words</th>\n",
       "      <th>n_unique</th>\n",
       "      <th>lex_div</th>\n",
       "      <th>most_repeated_words</th>\n",
       "      <th>n_hapaxes</th>\n",
       "    </tr>\n",
       "  </thead>\n",
       "  <tbody>\n",
       "    <tr>\n",
       "      <th>10001</th>\n",
       "      <td>Apocolocyntosis</td>\n",
       "      <td>Lucius Seneca</td>\n",
       "      <td>2003-11-10</td>\n",
       "      <td>2737</td>\n",
       "      <td>1510</td>\n",
       "      <td>0.55</td>\n",
       "      <td>[[32, laudius], [25, one], [21, made], [19, oo...</td>\n",
       "      <td>1044</td>\n",
       "    </tr>\n",
       "    <tr>\n",
       "      <th>10002</th>\n",
       "      <td>The House on the Borderland</td>\n",
       "      <td>William Hope Hodgson</td>\n",
       "      <td>2003-11-10</td>\n",
       "      <td>24357</td>\n",
       "      <td>5091</td>\n",
       "      <td>0.21</td>\n",
       "      <td>[[174, could], [155, time], [145, seemed], [14...</td>\n",
       "      <td>2465</td>\n",
       "    </tr>\n",
       "    <tr>\n",
       "      <th>10003</th>\n",
       "      <td>My First Years As A Frenchwoman, 1876-1879</td>\n",
       "      <td>Mary King Waddington</td>\n",
       "      <td>2003-11-10</td>\n",
       "      <td>30656</td>\n",
       "      <td>6029</td>\n",
       "      <td>0.20</td>\n",
       "      <td>[[420, one], [225, would], [214, always], [207...</td>\n",
       "      <td>2965</td>\n",
       "    </tr>\n",
       "    <tr>\n",
       "      <th>10004</th>\n",
       "      <td>The Warriors</td>\n",
       "      <td>Lindsay, Anna Robertson Brown</td>\n",
       "      <td>2003-11-10</td>\n",
       "      <td>24458</td>\n",
       "      <td>6818</td>\n",
       "      <td>0.28</td>\n",
       "      <td>[[280, man], [269, one], [230, work], [217, li...</td>\n",
       "      <td>3781</td>\n",
       "    </tr>\n",
       "    <tr>\n",
       "      <th>10005</th>\n",
       "      <td>A Voyage to the Moon</td>\n",
       "      <td>George Tucker</td>\n",
       "      <td>2003-11-07</td>\n",
       "      <td>32561</td>\n",
       "      <td>7633</td>\n",
       "      <td>0.23</td>\n",
       "      <td>[[291, one], [196, would], [167, rahmin], [146...</td>\n",
       "      <td>3341</td>\n",
       "    </tr>\n",
       "  </tbody>\n",
       "</table>\n",
       "</div>"
      ],
      "text/plain": [
       "                                            title  \\\n",
       "10001                             Apocolocyntosis   \n",
       "10002                 The House on the Borderland   \n",
       "10003  My First Years As A Frenchwoman, 1876-1879   \n",
       "10004                                The Warriors   \n",
       "10005                        A Voyage to the Moon   \n",
       "\n",
       "                              Author relase_date  n_words  n_unique  lex_div  \\\n",
       "10001                  Lucius Seneca  2003-11-10     2737      1510     0.55   \n",
       "10002           William Hope Hodgson  2003-11-10    24357      5091     0.21   \n",
       "10003           Mary King Waddington  2003-11-10    30656      6029     0.20   \n",
       "10004  Lindsay, Anna Robertson Brown  2003-11-10    24458      6818     0.28   \n",
       "10005                  George Tucker  2003-11-07    32561      7633     0.23   \n",
       "\n",
       "                                     most_repeated_words  n_hapaxes  \n",
       "10001  [[32, laudius], [25, one], [21, made], [19, oo...       1044  \n",
       "10002  [[174, could], [155, time], [145, seemed], [14...       2465  \n",
       "10003  [[420, one], [225, would], [214, always], [207...       2965  \n",
       "10004  [[280, man], [269, one], [230, work], [217, li...       3781  \n",
       "10005  [[291, one], [196, would], [167, rahmin], [146...       3341  "
      ]
     },
     "metadata": {},
     "output_type": "display_data"
    },
    {
     "name": "stdout",
     "output_type": "stream",
     "text": [
      "<class 'pandas.core.frame.DataFrame'>\n",
      "Int64Index: 1044 entries, 10001 to 12386\n",
      "Data columns (total 8 columns):\n",
      " #   Column               Non-Null Count  Dtype         \n",
      "---  ------               --------------  -----         \n",
      " 0   title                1044 non-null   object        \n",
      " 1   Author               1044 non-null   object        \n",
      " 2   relase_date          1042 non-null   datetime64[ns]\n",
      " 3   n_words              1044 non-null   int64         \n",
      " 4   n_unique             1044 non-null   int64         \n",
      " 5   lex_div              1044 non-null   float64       \n",
      " 6   most_repeated_words  1044 non-null   object        \n",
      " 7   n_hapaxes            1044 non-null   int64         \n",
      "dtypes: datetime64[ns](1), float64(1), int64(3), object(3)\n",
      "memory usage: 73.4+ KB\n"
     ]
    },
    {
     "data": {
      "text/plain": [
       "None"
      ]
     },
     "metadata": {},
     "output_type": "display_data"
    }
   ],
   "source": [
    "df_other_authors = df[~df.Author.isin(top_authors)]\n",
    "display(df_other_authors.head())\n",
    "display(df_other_authors.info())"
   ]
  },
  {
   "cell_type": "markdown",
   "id": "0a79458c",
   "metadata": {},
   "source": [
    "### what is the difference between the number of words and lex_diversity  in top authors and others?"
   ]
  },
  {
   "cell_type": "code",
   "execution_count": 33,
   "id": "5833ce02",
   "metadata": {
    "scrolled": true
   },
   "outputs": [],
   "source": [
    "#to when I draw the below digram for the first time I found there is outliersm, thus I used these to condition to filter the numbers of words. \n",
    "filtered_n_words_top = df_top_authors[(df_top_authors['n_words']<4000) & (df_top_authors['n_words']>500)]['n_words']\n",
    "filtered_n_words_others = df_other_authors[(df_other_authors['n_words']<5000) & (df_other_authors['n_words']>500)]['n_words']"
   ]
  },
  {
   "cell_type": "code",
   "execution_count": 34,
   "id": "f6ccd575",
   "metadata": {
    "scrolled": false
   },
   "outputs": [
    {
     "data": {
      "text/plain": [
       "Text(0.5, 1.0, 'n words for other Auth.')"
      ]
     },
     "execution_count": 34,
     "metadata": {},
     "output_type": "execute_result"
    },
    {
     "data": {
      "image/png": "[encoded data removed]",
      "text/plain": [
       "<Figure size 1080x360 with 2 Axes>"
      ]
     },
     "metadata": {
      "needs_background": "light"
     },
     "output_type": "display_data"
    }
   ],
   "source": [
    "%matplotlib inline\n",
    "\n",
    "fig, axes = plt.subplots(1, 2, figsize=(15, 5), sharey=True)\n",
    "fig.suptitle('N-words top vs others Authors')\n",
    "\n",
    "sns.histplot(ax=axes[0],x=filtered_n_words_top,color='teal')\n",
    "axes[0].set_title('n words for top Auth.')\n",
    "\n",
    "sns.histplot(ax=axes[1],x=filtered_n_words_others)\n",
    "axes[1].set_title('n words for other Auth.')\n"
   ]
  },
  {
   "cell_type": "code",
   "execution_count": 35,
   "id": "77bb4ac3",
   "metadata": {
    "scrolled": false
   },
   "outputs": [
    {
     "data": {
      "text/plain": [
       "Text(0.5, 1.0, 'lex dev. for other Auth.')"
      ]
     },
     "execution_count": 35,
     "metadata": {},
     "output_type": "execute_result"
    },
    {
     "data": {
      "image/png": "[encoded data removed]",
      "text/plain": [
       "<Figure size 1080x360 with 2 Axes>"
      ]
     },
     "metadata": {
      "needs_background": "light"
     },
     "output_type": "display_data"
    }
   ],
   "source": [
    "fig, axes = plt.subplots(1, 2, figsize=(15, 5), sharey=True)\n",
    "fig.suptitle('lex difference between top author and others')\n",
    "\n",
    "sns.histplot(ax=axes[0],x=df_top_authors['lex_div'],color='teal')\n",
    "axes[0].set_title('lex dev. for top Auth.')\n",
    "\n",
    "sns.histplot(ax=axes[1],x=df_other_authors['lex_div'])\n",
    "axes[1].set_title('lex dev. for other Auth.')\n"
   ]
  },
  {
   "cell_type": "markdown",
   "id": "230b0299",
   "metadata": {},
   "source": [
    "<p>the previous two diagrams we can conclude the peak of the number of words of the top author is 2000 words, and the peak of the other writers is near 3500.</p>\n",
    "<p>on the other hand, the peak of lexical diversity for the top authors is 40% while other authors are 20%.</p>"
   ]
  },
  {
   "cell_type": "code",
   "execution_count": 36,
   "id": "66eaf22b",
   "metadata": {
    "scrolled": true
   },
   "outputs": [
    {
     "data": {
      "text/plain": [
       "Text(0.5, 1.0, 'the change of writing lexical diversity of the years')"
      ]
     },
     "execution_count": 36,
     "metadata": {},
     "output_type": "execute_result"
    },
    {
     "data": {
      "image/png": "[encoded data removed]",
      "text/plain": [
       "<Figure size 432x288 with 1 Axes>"
      ]
     },
     "metadata": {
      "needs_background": "light"
     },
     "output_type": "display_data"
    }
   ],
   "source": [
    "sns.scatterplot(x='relase_date', y='lex_div', data=df)\n",
    "plt.title(\"the change of writing lexical diversity of the years\")"
   ]
  },
  {
   "cell_type": "markdown",
   "id": "b553d2b8",
   "metadata": {},
   "source": [
    "<p>In the above diagram, I tried to detect the rate of lexical diversity over the years but unfortunately, the relase date is the date of convert the book to E-book and as we noticed most books are released at 2004</p>"
   ]
  },
  {
   "cell_type": "markdown",
   "id": "0ef5bc47",
   "metadata": {},
   "source": [
    "### What is the most repeated word in all books?"
   ]
  },
  {
   "cell_type": "code",
   "execution_count": 37,
   "id": "a6f9c096",
   "metadata": {},
   "outputs": [
    {
     "data": {
      "text/plain": [
       "array([list([[32, 'laudius'], [25, 'one'], [21, 'made'], [19, 'ootnote'], [15, 'man'], [14, 'know'], [13, 'see'], [13, 'say'], [13, 'hat'], [13, 'day']]),\n",
       "       list([[174, 'could'], [155, 'time'], [145, 'seemed'], [144, 'hen'], [142, 'great'], [132, 'came'], [125, 'upon'], [124, 'though'], [122, 'saw'], [115, 'sun']]),\n",
       "       list([[420, 'one'], [225, 'would'], [214, 'always'], [207, 'much'], [186, 'quite'], [172, 'people'], [172, 'many'], [170, 'great'], [147, 'well'], [137, 'went']]),\n",
       "       list([[280, 'man'], [269, 'one'], [230, 'work'], [217, 'life'], [196, 'world'], [185, 'men'], [146, 'great'], [132, 'shall'], [127, 'must'], [124, 'day']]),\n",
       "       list([[291, 'one'], [196, 'would'], [167, 'rahmin'], [146, 'could'], [145, 'time'], [138, 'earth'], [136, 'moon'], [133, 'said'], [122, 'great'], [115, 'man']]),\n",
       "       list([[73, 'thou'], [38, 'love'], [35, 'one'], [31, 'time'], [30, 'thy'], [28, 'thee'], [28, 'ever'], [26, 'many'], [25, 'would'], [24, 'well']]),\n",
       "       list([[356, 'said'], [184, 'one'], [183, 'could'], [175, 'hat'], [164, 'man'], [155, 'arrow'], [154, 'men'], [148, 'would'], [142, 'like'], [140, 'rendon']]),\n",
       "       list([[297, 'upon'], [279, 'one'], [237, 'old'], [212, 'like'], [204, 'said'], [200, 'little'], [198, 'lake'], [190, 'away'], [184, 'water'], [176, 'way']]),\n",
       "       list([[41, 'may'], [36, 'HOWARD'], [35, 'spirit'], [27, 'life'], [25, 'character'], [24, 'human'], [24, 'every'], [23, 'world'], [23, 'could'], [22, 'thy']]),\n",
       "       list([[277, 'hot'], [277, 'add'], [270, 'cup'], [252, 'salt'], [222, 'butter'], [214, 'chopped'], [209, 'let'], [202, 'pepper'], [193, 'erve'], [173, 'eggs']])],\n",
       "      dtype=object)"
      ]
     },
     "execution_count": 37,
     "metadata": {},
     "output_type": "execute_result"
    }
   ],
   "source": [
    "most_repeated = df.most_repeated_words.values.flatten()\n",
    "most_repeated[:10]"
   ]
  },
  {
   "cell_type": "code",
   "execution_count": 38,
   "id": "e911c626",
   "metadata": {},
   "outputs": [],
   "source": [
    "number = []\n",
    "word = []\n",
    "for lis in most_repeated :\n",
    "    for elem in lis:\n",
    "        number.append(elem[0])\n",
    "        word.append(elem[1])"
   ]
  },
  {
   "cell_type": "code",
   "execution_count": 39,
   "id": "414a8a95",
   "metadata": {},
   "outputs": [],
   "source": [
    "#construct new data frame to have the ability to use data frame build in functions.\n",
    "most_rep_df = pd.DataFrame({'word':word,'number':number})"
   ]
  },
  {
   "cell_type": "code",
   "execution_count": 40,
   "id": "e63fc696",
   "metadata": {},
   "outputs": [
    {
     "data": {
      "text/html": [
       "<div>\n",
       "<style scoped>\n",
       "    .dataframe tbody tr th:only-of-type {\n",
       "        vertical-align: middle;\n",
       "    }\n",
       "\n",
       "    .dataframe tbody tr th {\n",
       "        vertical-align: top;\n",
       "    }\n",
       "\n",
       "    .dataframe thead th {\n",
       "        text-align: right;\n",
       "    }\n",
       "</style>\n",
       "<table border=\"1\" class=\"dataframe\">\n",
       "  <thead>\n",
       "    <tr style=\"text-align: right;\">\n",
       "      <th></th>\n",
       "      <th>word</th>\n",
       "      <th>number</th>\n",
       "    </tr>\n",
       "  </thead>\n",
       "  <tbody>\n",
       "    <tr>\n",
       "      <th>0</th>\n",
       "      <td>laudius</td>\n",
       "      <td>32</td>\n",
       "    </tr>\n",
       "    <tr>\n",
       "      <th>1</th>\n",
       "      <td>one</td>\n",
       "      <td>25</td>\n",
       "    </tr>\n",
       "    <tr>\n",
       "      <th>2</th>\n",
       "      <td>made</td>\n",
       "      <td>21</td>\n",
       "    </tr>\n",
       "    <tr>\n",
       "      <th>3</th>\n",
       "      <td>ootnote</td>\n",
       "      <td>19</td>\n",
       "    </tr>\n",
       "    <tr>\n",
       "      <th>4</th>\n",
       "      <td>man</td>\n",
       "      <td>15</td>\n",
       "    </tr>\n",
       "  </tbody>\n",
       "</table>\n",
       "</div>"
      ],
      "text/plain": [
       "      word  number\n",
       "0  laudius      32\n",
       "1      one      25\n",
       "2     made      21\n",
       "3  ootnote      19\n",
       "4      man      15"
      ]
     },
     "execution_count": 40,
     "metadata": {},
     "output_type": "execute_result"
    }
   ],
   "source": [
    "most_rep_df.head()"
   ]
  },
  {
   "cell_type": "code",
   "execution_count": 41,
   "id": "12450483",
   "metadata": {},
   "outputs": [],
   "source": [
    "most_rep_coll = most_rep_df.groupby(word).sum()"
   ]
  },
  {
   "cell_type": "code",
   "execution_count": 42,
   "id": "54592455",
   "metadata": {},
   "outputs": [
    {
     "data": {
      "text/html": [
       "<div>\n",
       "<style scoped>\n",
       "    .dataframe tbody tr th:only-of-type {\n",
       "        vertical-align: middle;\n",
       "    }\n",
       "\n",
       "    .dataframe tbody tr th {\n",
       "        vertical-align: top;\n",
       "    }\n",
       "\n",
       "    .dataframe thead th {\n",
       "        text-align: right;\n",
       "    }\n",
       "</style>\n",
       "<table border=\"1\" class=\"dataframe\">\n",
       "  <thead>\n",
       "    <tr style=\"text-align: right;\">\n",
       "      <th></th>\n",
       "      <th>number</th>\n",
       "    </tr>\n",
       "  </thead>\n",
       "  <tbody>\n",
       "    <tr>\n",
       "      <th>one</th>\n",
       "      <td>193623</td>\n",
       "    </tr>\n",
       "    <tr>\n",
       "      <th>would</th>\n",
       "      <td>134788</td>\n",
       "    </tr>\n",
       "    <tr>\n",
       "      <th>said</th>\n",
       "      <td>126692</td>\n",
       "    </tr>\n",
       "    <tr>\n",
       "      <th>man</th>\n",
       "      <td>72394</td>\n",
       "    </tr>\n",
       "    <tr>\n",
       "      <th>upon</th>\n",
       "      <td>59492</td>\n",
       "    </tr>\n",
       "    <tr>\n",
       "      <th>could</th>\n",
       "      <td>51574</td>\n",
       "    </tr>\n",
       "    <tr>\n",
       "      <th>little</th>\n",
       "      <td>36986</td>\n",
       "    </tr>\n",
       "    <tr>\n",
       "      <th>may</th>\n",
       "      <td>36251</td>\n",
       "    </tr>\n",
       "    <tr>\n",
       "      <th>time</th>\n",
       "      <td>35887</td>\n",
       "    </tr>\n",
       "    <tr>\n",
       "      <th>like</th>\n",
       "      <td>33009</td>\n",
       "    </tr>\n",
       "  </tbody>\n",
       "</table>\n",
       "</div>"
      ],
      "text/plain": [
       "        number\n",
       "one     193623\n",
       "would   134788\n",
       "said    126692\n",
       "man      72394\n",
       "upon     59492\n",
       "could    51574\n",
       "little   36986\n",
       "may      36251\n",
       "time     35887\n",
       "like     33009"
      ]
     },
     "execution_count": 42,
     "metadata": {},
     "output_type": "execute_result"
    }
   ],
   "source": [
    "top_repeated_words = most_rep_coll.sort_values('number',ascending=False)\n",
    "top_repeated_words.head(10)"
   ]
  },
  {
   "cell_type": "code",
   "execution_count": 43,
   "id": "2b42ceeb",
   "metadata": {},
   "outputs": [],
   "source": [
    "n_rep_wor = top_repeated_words[:10].index\n",
    "#to_numpy return values as an array so i have to flattern it and then construct finall list.\n",
    "words = [x for x in top_repeated_words[:10].to_numpy().flatten()]"
   ]
  },
  {
   "cell_type": "code",
   "execution_count": 44,
   "id": "d31d2183",
   "metadata": {},
   "outputs": [
    {
     "data": {
      "text/plain": [
       "Text(0.5, 1.0, 'most repeated words')"
      ]
     },
     "execution_count": 44,
     "metadata": {},
     "output_type": "execute_result"
    },
    {
     "data": {
      "image/png": "[encoded data removed]",
      "text/plain": [
       "<Figure size 720x720 with 1 Axes>"
      ]
     },
     "metadata": {
      "needs_background": "light"
     },
     "output_type": "display_data"
    }
   ],
   "source": [
    "plt.figure(figsize=(10, 10))\n",
    "plot = sns.barplot( x = n_rep_wor, y= words)\n",
    "plt.bar_label(plot.containers[0])\n",
    "plt.title(\"most repeated words\")"
   ]
  },
  {
   "cell_type": "markdown",
   "id": "0a73129b",
   "metadata": {},
   "source": [
    "### At the last part we are going to use Sentiment analysis by VADER for top writer 'W.W. Jacobs'"
   ]
  },
  {
   "cell_type": "code",
   "execution_count": 45,
   "id": "d2409796",
   "metadata": {},
   "outputs": [
    {
     "data": {
      "text/html": [
       "<div>\n",
       "<style scoped>\n",
       "    .dataframe tbody tr th:only-of-type {\n",
       "        vertical-align: middle;\n",
       "    }\n",
       "\n",
       "    .dataframe tbody tr th {\n",
       "        vertical-align: top;\n",
       "    }\n",
       "\n",
       "    .dataframe thead th {\n",
       "        text-align: right;\n",
       "    }\n",
       "</style>\n",
       "<table border=\"1\" class=\"dataframe\">\n",
       "  <thead>\n",
       "    <tr style=\"text-align: right;\">\n",
       "      <th></th>\n",
       "      <th>title</th>\n",
       "      <th>Author</th>\n",
       "      <th>relase_date</th>\n",
       "      <th>n_words</th>\n",
       "      <th>n_unique</th>\n",
       "      <th>lex_div</th>\n",
       "      <th>most_repeated_words</th>\n",
       "      <th>n_hapaxes</th>\n",
       "    </tr>\n",
       "  </thead>\n",
       "  <tbody>\n",
       "    <tr>\n",
       "      <th>10561</th>\n",
       "      <td>Fine Feathers</td>\n",
       "      <td>W.W. Jacobs</td>\n",
       "      <td>2004-01-01</td>\n",
       "      <td>1881</td>\n",
       "      <td>989</td>\n",
       "      <td>0.53</td>\n",
       "      <td>[[77, obson], [76, said], [22, wife], [16, mot...</td>\n",
       "      <td>681</td>\n",
       "    </tr>\n",
       "    <tr>\n",
       "      <th>10562</th>\n",
       "      <td>Friends In Need</td>\n",
       "      <td>W.W. Jacobs</td>\n",
       "      <td>2004-01-01</td>\n",
       "      <td>1869</td>\n",
       "      <td>931</td>\n",
       "      <td>0.50</td>\n",
       "      <td>[[101, said], [59, idd], [55, ibbs], [35, rown...</td>\n",
       "      <td>630</td>\n",
       "    </tr>\n",
       "    <tr>\n",
       "      <th>10563</th>\n",
       "      <td>Good Intentions</td>\n",
       "      <td>W.W. Jacobs</td>\n",
       "      <td>2004-01-01</td>\n",
       "      <td>1819</td>\n",
       "      <td>718</td>\n",
       "      <td>0.39</td>\n",
       "      <td>[[75, ses], [25, one], [24, got], [23, wot], [...</td>\n",
       "      <td>423</td>\n",
       "    </tr>\n",
       "    <tr>\n",
       "      <th>10564</th>\n",
       "      <td>Fairy Gold</td>\n",
       "      <td>W.W. Jacobs</td>\n",
       "      <td>2004-01-01</td>\n",
       "      <td>1855</td>\n",
       "      <td>971</td>\n",
       "      <td>0.52</td>\n",
       "      <td>[[69, eak], [59, said], [48, hase], [23, wife]...</td>\n",
       "      <td>679</td>\n",
       "    </tr>\n",
       "    <tr>\n",
       "      <th>10565</th>\n",
       "      <td>Watch-Dogs</td>\n",
       "      <td>W.W. Jacobs</td>\n",
       "      <td>2004-01-01</td>\n",
       "      <td>1844</td>\n",
       "      <td>721</td>\n",
       "      <td>0.39</td>\n",
       "      <td>[[62, ses], [42, unnett], [26, wot], [22, rett...</td>\n",
       "      <td>428</td>\n",
       "    </tr>\n",
       "  </tbody>\n",
       "</table>\n",
       "</div>"
      ],
      "text/plain": [
       "                 title       Author relase_date  n_words  n_unique  lex_div  \\\n",
       "10561    Fine Feathers  W.W. Jacobs  2004-01-01     1881       989     0.53   \n",
       "10562  Friends In Need  W.W. Jacobs  2004-01-01     1869       931     0.50   \n",
       "10563  Good Intentions  W.W. Jacobs  2004-01-01     1819       718     0.39   \n",
       "10564       Fairy Gold  W.W. Jacobs  2004-01-01     1855       971     0.52   \n",
       "10565       Watch-Dogs  W.W. Jacobs  2004-01-01     1844       721     0.39   \n",
       "\n",
       "                                     most_repeated_words  n_hapaxes  \n",
       "10561  [[77, obson], [76, said], [22, wife], [16, mot...        681  \n",
       "10562  [[101, said], [59, idd], [55, ibbs], [35, rown...        630  \n",
       "10563  [[75, ses], [25, one], [24, got], [23, wot], [...        423  \n",
       "10564  [[69, eak], [59, said], [48, hase], [23, wife]...        679  \n",
       "10565  [[62, ses], [42, unnett], [26, wot], [22, rett...        428  "
      ]
     },
     "execution_count": 45,
     "metadata": {},
     "output_type": "execute_result"
    }
   ],
   "source": [
    "#got all his books from, books dictionary we already created\n",
    "# 1 - we will get the index data frame which is a file numbers\n",
    "jacobs_df = df[df.Author == 'W.W. Jacobs']\n",
    "jacobs_df.head()"
   ]
  },
  {
   "cell_type": "code",
   "execution_count": 46,
   "id": "3ee594ef",
   "metadata": {},
   "outputs": [],
   "source": [
    "jacobs_list = list(jacobs_df.index) #get files of ww jacobs"
   ]
  },
  {
   "cell_type": "code",
   "execution_count": 47,
   "id": "5f32753a",
   "metadata": {},
   "outputs": [],
   "source": [
    "#construct dictionary contain only jacob files\n",
    "get_files()   #to construct books dictinary again with generators, because we already feteched all generator to get data about all books\n",
    "jacobs_files = {key:books[key] for key in jacobs_list }\n"
   ]
  },
  {
   "cell_type": "code",
   "execution_count": 48,
   "id": "95ac3719",
   "metadata": {},
   "outputs": [],
   "source": [
    "analyser = SentimentIntensityAnalyzer()"
   ]
  },
  {
   "cell_type": "code",
   "execution_count": 49,
   "id": "002980ef",
   "metadata": {},
   "outputs": [],
   "source": [
    "jscore = {'neg': 0.0, 'neu': 0.0, 'pos': 0.0}  #construct dictionary to save scores inside it."
   ]
  },
  {
   "cell_type": "code",
   "execution_count": 50,
   "id": "1acc6d00",
   "metadata": {},
   "outputs": [],
   "source": [
    "for ind,file in jacobs_files.items():\n",
    "    sentence_toknize = tokenization(file,'s')\n",
    "    for book in sentence_toknize:\n",
    "        score = analyser.polarity_scores(book)\n",
    "        jscore['neg'] += score['neg']\n",
    "        jscore['neu'] += score['neu']\n",
    "        jscore['pos'] += score['pos']\n",
    "    "
   ]
  },
  {
   "cell_type": "code",
   "execution_count": 51,
   "id": "c518463c",
   "metadata": {},
   "outputs": [
    {
     "name": "stdout",
     "output_type": "stream",
     "text": [
      "{'neg': 1456.781999999999, 'neu': 21917.78600000014, 'pos': 1929.4589999999978}\n"
     ]
    }
   ],
   "source": [
    "print(jscore)"
   ]
  },
  {
   "cell_type": "code",
   "execution_count": 52,
   "id": "9d13153c",
   "metadata": {
    "scrolled": true
   },
   "outputs": [
    {
     "data": {
      "text/plain": [
       "Text(0.5, 1.0, 'The main attribute for WW jacons writing')"
      ]
     },
     "execution_count": 52,
     "metadata": {},
     "output_type": "execute_result"
    },
    {
     "data": {
      "image/png": "[encoded data removed]",
      "text/plain": [
       "<Figure size 432x288 with 1 Axes>"
      ]
     },
     "metadata": {
      "needs_background": "light"
     },
     "output_type": "display_data"
    }
   ],
   "source": [
    "sns.barplot(x=list(jscore.keys()),y=list(jscore.values()))\n",
    "plt.title(\"The main attribute for WW jacons writing\")"
   ]
  },
  {
   "cell_type": "markdown",
   "id": "454258fc",
   "metadata": {},
   "source": [
    "- As we noticed the writing style for ww.jacob is natural."
   ]
  },
  {
   "cell_type": "markdown",
   "id": "c519b151",
   "metadata": {},
   "source": [
    "##  Suggestions\n",
    "<p>while making the analysis I tried to get the original publishing date but I found it hard to extract it because there is no certain pattern for it, they write one as year only, and others years and months, and there is no fixed place for it, we can use this data to show the development of using language throughout years.</p>\n",
    "<p>Also, it will be good to find a way to know the genre for each novel, to classify it</p>\n",
    "<p>Finally, in the versions of the modern books it will be good to add the number of sales for each book, maybe connect the Gutenburg site with E-book market places like amazon via API, and we can use this information to know if this style of book or those combination of worlds will get success or not.</p>"
   ]
  },
  {
   "cell_type": "markdown",
   "id": "e2ede9c9",
   "metadata": {},
   "source": [
    "## Bibliography\n",
    "* module materials\n",
    "* https://pandas.pydata.org/\n",
    "* https://numpy.org/\n",
    "* https://seaborn.pydata.org/\n",
    "* https://matplotlib.org/\n",
    "* Wes McKinney (2022) Python for Data Analysis. 3rd ed. 1005 Gravenstein Highway North, Sebastopol, CA 95472.: O’Reilly Media, Inc."
   ]
  }
 ],
 "metadata": {
  "kernelspec": {
   "display_name": "Python 3 (ipykernel)",
   "language": "python",
   "name": "python3"
  },
  "language_info": {
   "codemirror_mode": {
    "name": "ipython",
    "version": 3
   },
   "file_extension": ".py",
   "mimetype": "text/x-python",
   "name": "python",
   "nbconvert_exporter": "python",
   "pygments_lexer": "ipython3",
   "version": "3.9.12"
  }
 },
 "nbformat": 4,
 "nbformat_minor": 5
}
